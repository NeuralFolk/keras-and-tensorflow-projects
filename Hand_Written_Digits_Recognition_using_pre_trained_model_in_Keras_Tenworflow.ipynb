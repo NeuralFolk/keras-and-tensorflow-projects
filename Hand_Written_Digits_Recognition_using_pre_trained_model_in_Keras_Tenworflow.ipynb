{
  "nbformat": 4,
  "nbformat_minor": 0,
  "metadata": {
    "colab": {
      "provenance": [],
      "authorship_tag": "ABX9TyPB7iFsuE1x1ry2cNm74A9f",
      "include_colab_link": true
    },
    "kernelspec": {
      "name": "python3",
      "display_name": "Python 3"
    },
    "language_info": {
      "name": "python"
    }
  },
  "cells": [
    {
      "cell_type": "markdown",
      "metadata": {
        "id": "view-in-github",
        "colab_type": "text"
      },
      "source": [
        "<a href=\"https://colab.research.google.com/github/NeuralFolk/keras-and-tensorflow-projects/blob/main/Hand_Written_Digits_Recognition_using_pre_trained_model_in_Keras_Tenworflow.ipynb\" target=\"_parent\"><img src=\"https://colab.research.google.com/assets/colab-badge.svg\" alt=\"Open In Colab\"/></a>"
      ]
    },
    {
      "cell_type": "code",
      "execution_count": null,
      "metadata": {
        "id": "Ko2GsliuiLev"
      },
      "outputs": [],
      "source": [
        "import tensorflow as tf\n",
        "import cv2"
      ]
    },
    {
      "cell_type": "code",
      "source": [
        "image = cv2.imread(\"/content/4.jpg\")"
      ],
      "metadata": {
        "id": "rrkoiQ5CidcD"
      },
      "execution_count": null,
      "outputs": []
    },
    {
      "cell_type": "code",
      "source": [
        "image"
      ],
      "metadata": {
        "colab": {
          "base_uri": "https://localhost:8080/",
          "height": 209
        },
        "id": "kwO74U6ningW",
        "outputId": "5182cb61-fac8-446a-8022-0d175a80fec3"
      },
      "execution_count": null,
      "outputs": [
        {
          "output_type": "execute_result",
          "data": {
            "text/plain": [
              "array([[[0, 0, 0],\n",
              "        [0, 0, 0],\n",
              "        [0, 0, 0],\n",
              "        ...,\n",
              "        [0, 0, 0],\n",
              "        [0, 0, 0],\n",
              "        [0, 0, 0]],\n",
              "\n",
              "       [[0, 0, 0],\n",
              "        [0, 0, 0],\n",
              "        [0, 0, 0],\n",
              "        ...,\n",
              "        [0, 0, 0],\n",
              "        [0, 0, 0],\n",
              "        [0, 0, 0]],\n",
              "\n",
              "       [[0, 0, 0],\n",
              "        [0, 0, 0],\n",
              "        [0, 0, 0],\n",
              "        ...,\n",
              "        [0, 0, 0],\n",
              "        [0, 0, 0],\n",
              "        [0, 0, 0]],\n",
              "\n",
              "       ...,\n",
              "\n",
              "       [[0, 0, 0],\n",
              "        [0, 0, 0],\n",
              "        [0, 0, 0],\n",
              "        ...,\n",
              "        [0, 0, 0],\n",
              "        [0, 0, 0],\n",
              "        [0, 0, 0]],\n",
              "\n",
              "       [[0, 0, 0],\n",
              "        [0, 0, 0],\n",
              "        [0, 0, 0],\n",
              "        ...,\n",
              "        [0, 0, 0],\n",
              "        [0, 0, 0],\n",
              "        [0, 0, 0]],\n",
              "\n",
              "       [[0, 0, 0],\n",
              "        [0, 0, 0],\n",
              "        [0, 0, 0],\n",
              "        ...,\n",
              "        [0, 0, 0],\n",
              "        [0, 0, 0],\n",
              "        [0, 0, 0]]], dtype=uint8)"
            ],
            "text/html": [
              "<style>\n",
              "      .ndarray_repr .ndarray_raw_data {\n",
              "        display: none;\n",
              "      }\n",
              "      .ndarray_repr.show_array .ndarray_raw_data {\n",
              "        display: block;\n",
              "      }\n",
              "      .ndarray_repr.show_array .ndarray_image_preview {\n",
              "        display: none;\n",
              "      }\n",
              "      </style>\n",
              "      <div id=\"id-edfd814c-cea5-4b3c-b9ed-de0ef262e609\" class=\"ndarray_repr\"><pre>ndarray (169, 191, 3) <button style=\"padding: 0 2px;\">show data</button></pre><img src=\"data:image/png;base64,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\" class=\"ndarray_image_preview\" /><pre class=\"ndarray_raw_data\">array([[[0, 0, 0],\n",
              "        [0, 0, 0],\n",
              "        [0, 0, 0],\n",
              "        ...,\n",
              "        [0, 0, 0],\n",
              "        [0, 0, 0],\n",
              "        [0, 0, 0]],\n",
              "\n",
              "       [[0, 0, 0],\n",
              "        [0, 0, 0],\n",
              "        [0, 0, 0],\n",
              "        ...,\n",
              "        [0, 0, 0],\n",
              "        [0, 0, 0],\n",
              "        [0, 0, 0]],\n",
              "\n",
              "       [[0, 0, 0],\n",
              "        [0, 0, 0],\n",
              "        [0, 0, 0],\n",
              "        ...,\n",
              "        [0, 0, 0],\n",
              "        [0, 0, 0],\n",
              "        [0, 0, 0]],\n",
              "\n",
              "       ...,\n",
              "\n",
              "       [[0, 0, 0],\n",
              "        [0, 0, 0],\n",
              "        [0, 0, 0],\n",
              "        ...,\n",
              "        [0, 0, 0],\n",
              "        [0, 0, 0],\n",
              "        [0, 0, 0]],\n",
              "\n",
              "       [[0, 0, 0],\n",
              "        [0, 0, 0],\n",
              "        [0, 0, 0],\n",
              "        ...,\n",
              "        [0, 0, 0],\n",
              "        [0, 0, 0],\n",
              "        [0, 0, 0]],\n",
              "\n",
              "       [[0, 0, 0],\n",
              "        [0, 0, 0],\n",
              "        [0, 0, 0],\n",
              "        ...,\n",
              "        [0, 0, 0],\n",
              "        [0, 0, 0],\n",
              "        [0, 0, 0]]], dtype=uint8)</pre></div><script>\n",
              "      (() => {\n",
              "      const titles = ['show data', 'hide data'];\n",
              "      let index = 0\n",
              "      document.querySelector('#id-edfd814c-cea5-4b3c-b9ed-de0ef262e609 button').onclick = (e) => {\n",
              "        document.querySelector('#id-edfd814c-cea5-4b3c-b9ed-de0ef262e609').classList.toggle('show_array');\n",
              "        index = (++index) % 2;\n",
              "        document.querySelector('#id-edfd814c-cea5-4b3c-b9ed-de0ef262e609 button').textContent = titles[index];\n",
              "        e.preventDefault();\n",
              "        e.stopPropagation();\n",
              "      }\n",
              "      })();\n",
              "    </script>"
            ]
          },
          "metadata": {},
          "execution_count": 3
        }
      ]
    },
    {
      "cell_type": "code",
      "source": [
        "image.ndim"
      ],
      "metadata": {
        "colab": {
          "base_uri": "https://localhost:8080/"
        },
        "id": "aF7lojGGiomn",
        "outputId": "3eddf9c4-4e29-4591-ebb2-4f0a31f70062"
      },
      "execution_count": null,
      "outputs": [
        {
          "output_type": "execute_result",
          "data": {
            "text/plain": [
              "3"
            ]
          },
          "metadata": {},
          "execution_count": 4
        }
      ]
    },
    {
      "cell_type": "code",
      "source": [
        "image = cv2.cvtColor(image, cv2.COLOR_BGR2GRAY)"
      ],
      "metadata": {
        "id": "RkcJ4PCbiu9A"
      },
      "execution_count": null,
      "outputs": []
    },
    {
      "cell_type": "code",
      "source": [
        "image"
      ],
      "metadata": {
        "colab": {
          "base_uri": "https://localhost:8080/",
          "height": 209
        },
        "id": "DUmm4pRwi-dX",
        "outputId": "e02e650b-cd20-4426-adf6-085ce7475abf"
      },
      "execution_count": null,
      "outputs": [
        {
          "output_type": "execute_result",
          "data": {
            "text/plain": [
              "array([[0, 0, 0, ..., 0, 0, 0],\n",
              "       [0, 0, 0, ..., 0, 0, 0],\n",
              "       [0, 0, 0, ..., 0, 0, 0],\n",
              "       ...,\n",
              "       [0, 0, 0, ..., 0, 0, 0],\n",
              "       [0, 0, 0, ..., 0, 0, 0],\n",
              "       [0, 0, 0, ..., 0, 0, 0]], dtype=uint8)"
            ],
            "text/html": [
              "<style>\n",
              "      .ndarray_repr .ndarray_raw_data {\n",
              "        display: none;\n",
              "      }\n",
              "      .ndarray_repr.show_array .ndarray_raw_data {\n",
              "        display: block;\n",
              "      }\n",
              "      .ndarray_repr.show_array .ndarray_image_preview {\n",
              "        display: none;\n",
              "      }\n",
              "      </style>\n",
              "      <div id=\"id-d6b83b78-3b87-4dc1-ab56-01d9c0e707ef\" class=\"ndarray_repr\"><pre>ndarray (169, 191) <button style=\"padding: 0 2px;\">show data</button></pre><img src=\"data:image/png;base64,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\" class=\"ndarray_image_preview\" /><pre class=\"ndarray_raw_data\">array([[0, 0, 0, ..., 0, 0, 0],\n",
              "       [0, 0, 0, ..., 0, 0, 0],\n",
              "       [0, 0, 0, ..., 0, 0, 0],\n",
              "       ...,\n",
              "       [0, 0, 0, ..., 0, 0, 0],\n",
              "       [0, 0, 0, ..., 0, 0, 0],\n",
              "       [0, 0, 0, ..., 0, 0, 0]], dtype=uint8)</pre></div><script>\n",
              "      (() => {\n",
              "      const titles = ['show data', 'hide data'];\n",
              "      let index = 0\n",
              "      document.querySelector('#id-d6b83b78-3b87-4dc1-ab56-01d9c0e707ef button').onclick = (e) => {\n",
              "        document.querySelector('#id-d6b83b78-3b87-4dc1-ab56-01d9c0e707ef').classList.toggle('show_array');\n",
              "        index = (++index) % 2;\n",
              "        document.querySelector('#id-d6b83b78-3b87-4dc1-ab56-01d9c0e707ef button').textContent = titles[index];\n",
              "        e.preventDefault();\n",
              "        e.stopPropagation();\n",
              "      }\n",
              "      })();\n",
              "    </script>"
            ]
          },
          "metadata": {},
          "execution_count": 6
        }
      ]
    },
    {
      "cell_type": "code",
      "source": [
        "image.shape"
      ],
      "metadata": {
        "colab": {
          "base_uri": "https://localhost:8080/"
        },
        "id": "fIeAbHTci_bB",
        "outputId": "a70cb8f0-896c-455d-f3fe-e2771f26526a"
      },
      "execution_count": null,
      "outputs": [
        {
          "output_type": "execute_result",
          "data": {
            "text/plain": [
              "(169, 191)"
            ]
          },
          "metadata": {},
          "execution_count": 7
        }
      ]
    },
    {
      "cell_type": "code",
      "source": [
        "image.ndim"
      ],
      "metadata": {
        "colab": {
          "base_uri": "https://localhost:8080/"
        },
        "id": "7iQH0Df1jCUr",
        "outputId": "d566ce4f-8088-474a-c4ca-fb374ae13b4c"
      },
      "execution_count": null,
      "outputs": [
        {
          "output_type": "execute_result",
          "data": {
            "text/plain": [
              "2"
            ]
          },
          "metadata": {},
          "execution_count": 8
        }
      ]
    },
    {
      "cell_type": "code",
      "source": [
        "image = cv2.resize(image, (28, 28))"
      ],
      "metadata": {
        "id": "wrxiNZpVjEhB"
      },
      "execution_count": null,
      "outputs": []
    },
    {
      "cell_type": "code",
      "source": [
        "image"
      ],
      "metadata": {
        "colab": {
          "base_uri": "https://localhost:8080/",
          "height": 68
        },
        "id": "B1-DxuQSjP6H",
        "outputId": "40a25a9a-623a-45e3-ac40-0df005b2095f"
      },
      "execution_count": null,
      "outputs": [
        {
          "output_type": "execute_result",
          "data": {
            "text/plain": [
              "array([[  0,   0,   0,   0,   0,   0,   0,   0,   0,   0,   0,   0,   0,\n",
              "          0,   0,   0,   0,   0,   0,   0,   0,   0,   0,   0,   0,   0,\n",
              "          0,   0],\n",
              "       [  0,   0,   0,   0,   0,   0,   0,   0,   0,   0,   0,   0,   0,\n",
              "          0,   0,   0,   0,   0,   0,   0,   0,   0,   0,   0,   0,   0,\n",
              "          0,   0],\n",
              "       [  0,   0,   0,   0,   0,   0,   0,   0,   0,   0,   0,   0,   0,\n",
              "          0,   0,   0,   0,   0,   0,   0,   0,   0,   0,   0,   0,   0,\n",
              "          0,   0],\n",
              "       [  0,   0,   0,   1,   0,   1,   0,   0,   0,   0,   0,   0,   0,\n",
              "          0,   0,   0,   0,   0,   0,   0,   6,  26,  49,  10,   1,   0,\n",
              "          0,   0],\n",
              "       [  0,   0,   6,   9,   7,   0,   0,   0,   0,   0,   0,   0,   0,\n",
              "          0,   0,   0,   0,   0,   0,   0,  29, 115, 206,  44,   2,   0,\n",
              "          0,   0],\n",
              "       [  0,   1,  46,  78,  53,   0,   0,   0,   0,   0,   0,   0,   0,\n",
              "          0,   0,   0,   0,   0,   0,   0,  46, 139, 169,  43,   1,   0,\n",
              "          0,   0],\n",
              "       [  0,   0,  86, 142,  97,   0,   0,   0,   0,   0,   0,   0,   0,\n",
              "          0,   0,   0,   0,   0,   0,   0,  60, 169, 188,  44,   1,   0,\n",
              "          0,   0],\n",
              "       [  0,   1, 145, 184, 102,   0,   0,   0,   0,   0,   0,   0,   0,\n",
              "          0,   0,   0,   0,   0,   0,  11, 105, 221, 153,  11,   0,   0,\n",
              "          0,   0],\n",
              "       [  0,   1, 156, 191, 102,   0,   0,   0,   0,   0,   0,   0,   0,\n",
              "          0,   0,   0,   0,   0,   1,  79, 189, 223, 120,   4,   0,   0,\n",
              "          0,   0],\n",
              "       [  0,  25, 176, 198, 101,   0,   0,   0,   0,   0,   0,   0,   0,\n",
              "          0,   0,   0,   0,   0,   1, 106, 219, 210,  71,   3,   0,   0,\n",
              "          0,   0],\n",
              "       [  2,  70, 200, 204, 101,   0,   0,   0,   0,   0,   0,   0,   0,\n",
              "          0,   0,   0,   0,   0,   6, 123, 233, 199,  36,   1,   0,   0,\n",
              "          0,   0],\n",
              "       [  4, 113, 220, 197,  91,   0,   0,   0,   0,   0,   0,   0,   0,\n",
              "          0,   0,   0,   0,   0,  50, 164, 243, 184,  21,   1,   0,   0,\n",
              "          0,   0],\n",
              "       [  3, 132, 227, 174,  64,   0,   0,   0,   0,   0,   0,   0,   0,\n",
              "          0,   0,   4,  20,  37, 144, 225, 230, 141,  10,   0,   0,   0,\n",
              "          0,   0],\n",
              "       [  4, 132, 227, 153,  41,   0,   0,   0,   5,   7,  11,  17,  20,\n",
              "         25,  34,  47, 105, 168, 228, 254, 187,  62,   1,   0,   0,   0,\n",
              "          0,   0],\n",
              "       [  4, 132, 228, 168,  63,  12,  13,  18,  57,  59, 100, 134, 146,\n",
              "        169, 228, 226, 215, 174, 221, 250, 168,  27,   0,   0,   0,   0,\n",
              "          0,   0],\n",
              "       [  4, 125, 224, 238, 210, 190, 190, 193, 233, 239, 239, 233, 217,\n",
              "        182, 143,  99,  47,  24, 170, 246, 153,   3,   0,   0,   0,   0,\n",
              "          0,   0],\n",
              "       [  0,  18, 104, 164, 183, 181, 180, 180, 186, 131,  93,  58,  31,\n",
              "         25,  19,  12,   5,  72, 205, 238, 136,   2,   0,   0,   0,   0,\n",
              "          0,   0],\n",
              "       [  0,   0,  18,  35,  40,  41,  40,  40,  40,  25,  15,   6,   1,\n",
              "          0,   0,   1,   1, 129, 225, 202,  94,   0,   0,   0,   0,   0,\n",
              "          0,   0],\n",
              "       [  0,   0,   0,   0,   1,   1,   1,   1,   1,   1,   1,   0,   0,\n",
              "          0,   0,   0,   2, 140, 231, 162,  50,   1,   0,   0,   0,   0,\n",
              "          0,   0],\n",
              "       [  0,   0,   0,   0,   0,   0,   0,   0,   0,   0,   0,   0,   0,\n",
              "          0,   0,   0,   3, 140, 231, 145,  32,   1,   0,   0,   0,   0,\n",
              "          0,   0],\n",
              "       [  0,   0,   0,   0,   0,   0,   0,   0,   0,   0,   0,   0,   0,\n",
              "          0,   0,   0,   3, 140, 232, 153,  42,   0,   0,   0,   0,   0,\n",
              "          0,   0],\n",
              "       [  0,   0,   0,   0,   0,   0,   0,   0,   0,   0,   0,   0,   0,\n",
              "          0,   0,   0,   3, 140, 231, 168,  57,   0,   0,   0,   0,   0,\n",
              "          0,   0],\n",
              "       [  0,   0,   0,   0,   0,   0,   0,   0,   0,   0,   0,   0,   0,\n",
              "          0,   0,   0,   3, 140, 231, 172,  61,   1,   0,   0,   0,   0,\n",
              "          0,   0],\n",
              "       [  0,   0,   0,   0,   0,   0,   0,   0,   0,   0,   0,   0,   0,\n",
              "          0,   0,   0,   3, 140, 231, 198,  91,   2,   0,   0,   0,   0,\n",
              "          0,   0],\n",
              "       [  0,   0,   0,   0,   0,   0,   0,   0,   0,   0,   0,   0,   0,\n",
              "          0,   0,   0,   1, 139, 231, 200,  91,   1,   0,   0,   0,   0,\n",
              "          0,   0],\n",
              "       [  0,   0,   0,   0,   0,   0,   0,   0,   0,   0,   0,   0,   0,\n",
              "          0,   0,   0,   1,  86, 212, 200,  91,   1,   0,   0,   0,   0,\n",
              "          0,   0],\n",
              "       [  0,   0,   0,   0,   0,   0,   0,   0,   0,   0,   0,   0,   0,\n",
              "          0,   0,   0,   0,  20,  55,  52,  25,   0,   0,   0,   0,   0,\n",
              "          0,   0],\n",
              "       [  0,   0,   0,   0,   0,   0,   0,   0,   0,   0,   0,   0,   0,\n",
              "          0,   0,   0,   0,   0,   0,   0,   0,   0,   0,   0,   0,   0,\n",
              "          0,   0]], dtype=uint8)"
            ],
            "text/html": [
              "<style>\n",
              "      .ndarray_repr .ndarray_raw_data {\n",
              "        display: none;\n",
              "      }\n",
              "      .ndarray_repr.show_array .ndarray_raw_data {\n",
              "        display: block;\n",
              "      }\n",
              "      .ndarray_repr.show_array .ndarray_image_preview {\n",
              "        display: none;\n",
              "      }\n",
              "      </style>\n",
              "      <div id=\"id-2f934b60-404a-4849-beaf-3d3842b19bc8\" class=\"ndarray_repr\"><pre>ndarray (28, 28) <button style=\"padding: 0 2px;\">show data</button></pre><img src=\"data:image/png;base64,iVBORw0KGgoAAAANSUhEUgAAABwAAAAcCAAAAABXZoBIAAABWklEQVR4nLWRz0oCURjFz73eGVNLE4cyI4lcpKaLoE1pFBQ9QeteojcJeolatY4eIAwjsD9Ug4sQE3NsELUxm6/FjNVMzbKzupzfdzjfvRf4NzEwpyEnloO2JQf8rum5/XKOAxBg6fl6yQmj8QciAByU3sy5kuFkjAEABytkJScL5VfUqpVEyFXJtnd51bCSccVPTjqb7FwSAHCej8tOJkXDXdW04JJi9BwwlwnqOgBAUMzfqH0TMRndW+9cdwkABAOaDQASF7JPCkysbRQTZyd9axJgkaknJi3yzML4dMHs3hrDlko2NIY72Rf40jIGr+px5aJxMKM/2x3Dw2YxZhKuzu/V2mBgGFupt7Z9NwHt6FRiBOi9/juBYVV5vDFHEJpmfw8BIB6S7yps1Gm7X48HtDX7zPFLbCxInpAiEe8khGDeMJH0giaBw7Oz1Pq5uUtK6qNW/6PMrU8zbWwEuckmqQAAAABJRU5ErkJggg==\" class=\"ndarray_image_preview\" /><pre class=\"ndarray_raw_data\">array([[  0,   0,   0,   0,   0,   0,   0,   0,   0,   0,   0,   0,   0,\n",
              "          0,   0,   0,   0,   0,   0,   0,   0,   0,   0,   0,   0,   0,\n",
              "          0,   0],\n",
              "       [  0,   0,   0,   0,   0,   0,   0,   0,   0,   0,   0,   0,   0,\n",
              "          0,   0,   0,   0,   0,   0,   0,   0,   0,   0,   0,   0,   0,\n",
              "          0,   0],\n",
              "       [  0,   0,   0,   0,   0,   0,   0,   0,   0,   0,   0,   0,   0,\n",
              "          0,   0,   0,   0,   0,   0,   0,   0,   0,   0,   0,   0,   0,\n",
              "          0,   0],\n",
              "       [  0,   0,   0,   1,   0,   1,   0,   0,   0,   0,   0,   0,   0,\n",
              "          0,   0,   0,   0,   0,   0,   0,   6,  26,  49,  10,   1,   0,\n",
              "          0,   0],\n",
              "       [  0,   0,   6,   9,   7,   0,   0,   0,   0,   0,   0,   0,   0,\n",
              "          0,   0,   0,   0,   0,   0,   0,  29, 115, 206,  44,   2,   0,\n",
              "          0,   0],\n",
              "       [  0,   1,  46,  78,  53,   0,   0,   0,   0,   0,   0,   0,   0,\n",
              "          0,   0,   0,   0,   0,   0,   0,  46, 139, 169,  43,   1,   0,\n",
              "          0,   0],\n",
              "       [  0,   0,  86, 142,  97,   0,   0,   0,   0,   0,   0,   0,   0,\n",
              "          0,   0,   0,   0,   0,   0,   0,  60, 169, 188,  44,   1,   0,\n",
              "          0,   0],\n",
              "       [  0,   1, 145, 184, 102,   0,   0,   0,   0,   0,   0,   0,   0,\n",
              "          0,   0,   0,   0,   0,   0,  11, 105, 221, 153,  11,   0,   0,\n",
              "          0,   0],\n",
              "       [  0,   1, 156, 191, 102,   0,   0,   0,   0,   0,   0,   0,   0,\n",
              "          0,   0,   0,   0,   0,   1,  79, 189, 223, 120,   4,   0,   0,\n",
              "          0,   0],\n",
              "       [  0,  25, 176, 198, 101,   0,   0,   0,   0,   0,   0,   0,   0,\n",
              "          0,   0,   0,   0,   0,   1, 106, 219, 210,  71,   3,   0,   0,\n",
              "          0,   0],\n",
              "       [  2,  70, 200, 204, 101,   0,   0,   0,   0,   0,   0,   0,   0,\n",
              "          0,   0,   0,   0,   0,   6, 123, 233, 199,  36,   1,   0,   0,\n",
              "          0,   0],\n",
              "       [  4, 113, 220, 197,  91,   0,   0,   0,   0,   0,   0,   0,   0,\n",
              "          0,   0,   0,   0,   0,  50, 164, 243, 184,  21,   1,   0,   0,\n",
              "          0,   0],\n",
              "       [  3, 132, 227, 174,  64,   0,   0,   0,   0,   0,   0,   0,   0,\n",
              "          0,   0,   4,  20,  37, 144, 225, 230, 141,  10,   0,   0,   0,\n",
              "          0,   0],\n",
              "       [  4, 132, 227, 153,  41,   0,   0,   0,   5,   7,  11,  17,  20,\n",
              "         25,  34,  47, 105, 168, 228, 254, 187,  62,   1,   0,   0,   0,\n",
              "          0,   0],\n",
              "       [  4, 132, 228, 168,  63,  12,  13,  18,  57,  59, 100, 134, 146,\n",
              "        169, 228, 226, 215, 174, 221, 250, 168,  27,   0,   0,   0,   0,\n",
              "          0,   0],\n",
              "       [  4, 125, 224, 238, 210, 190, 190, 193, 233, 239, 239, 233, 217,\n",
              "        182, 143,  99,  47,  24, 170, 246, 153,   3,   0,   0,   0,   0,\n",
              "          0,   0],\n",
              "       [  0,  18, 104, 164, 183, 181, 180, 180, 186, 131,  93,  58,  31,\n",
              "         25,  19,  12,   5,  72, 205, 238, 136,   2,   0,   0,   0,   0,\n",
              "          0,   0],\n",
              "       [  0,   0,  18,  35,  40,  41,  40,  40,  40,  25,  15,   6,   1,\n",
              "          0,   0,   1,   1, 129, 225, 202,  94,   0,   0,   0,   0,   0,\n",
              "          0,   0],\n",
              "       [  0,   0,   0,   0,   1,   1,   1,   1,   1,   1,   1,   0,   0,\n",
              "          0,   0,   0,   2, 140, 231, 162,  50,   1,   0,   0,   0,   0,\n",
              "          0,   0],\n",
              "       [  0,   0,   0,   0,   0,   0,   0,   0,   0,   0,   0,   0,   0,\n",
              "          0,   0,   0,   3, 140, 231, 145,  32,   1,   0,   0,   0,   0,\n",
              "          0,   0],\n",
              "       [  0,   0,   0,   0,   0,   0,   0,   0,   0,   0,   0,   0,   0,\n",
              "          0,   0,   0,   3, 140, 232, 153,  42,   0,   0,   0,   0,   0,\n",
              "          0,   0],\n",
              "       [  0,   0,   0,   0,   0,   0,   0,   0,   0,   0,   0,   0,   0,\n",
              "          0,   0,   0,   3, 140, 231, 168,  57,   0,   0,   0,   0,   0,\n",
              "          0,   0],\n",
              "       [  0,   0,   0,   0,   0,   0,   0,   0,   0,   0,   0,   0,   0,\n",
              "          0,   0,   0,   3, 140, 231, 172,  61,   1,   0,   0,   0,   0,\n",
              "          0,   0],\n",
              "       [  0,   0,   0,   0,   0,   0,   0,   0,   0,   0,   0,   0,   0,\n",
              "          0,   0,   0,   3, 140, 231, 198,  91,   2,   0,   0,   0,   0,\n",
              "          0,   0],\n",
              "       [  0,   0,   0,   0,   0,   0,   0,   0,   0,   0,   0,   0,   0,\n",
              "          0,   0,   0,   1, 139, 231, 200,  91,   1,   0,   0,   0,   0,\n",
              "          0,   0],\n",
              "       [  0,   0,   0,   0,   0,   0,   0,   0,   0,   0,   0,   0,   0,\n",
              "          0,   0,   0,   1,  86, 212, 200,  91,   1,   0,   0,   0,   0,\n",
              "          0,   0],\n",
              "       [  0,   0,   0,   0,   0,   0,   0,   0,   0,   0,   0,   0,   0,\n",
              "          0,   0,   0,   0,  20,  55,  52,  25,   0,   0,   0,   0,   0,\n",
              "          0,   0],\n",
              "       [  0,   0,   0,   0,   0,   0,   0,   0,   0,   0,   0,   0,   0,\n",
              "          0,   0,   0,   0,   0,   0,   0,   0,   0,   0,   0,   0,   0,\n",
              "          0,   0]], dtype=uint8)</pre></div><script>\n",
              "      (() => {\n",
              "      const titles = ['show data', 'hide data'];\n",
              "      let index = 0\n",
              "      document.querySelector('#id-2f934b60-404a-4849-beaf-3d3842b19bc8 button').onclick = (e) => {\n",
              "        document.querySelector('#id-2f934b60-404a-4849-beaf-3d3842b19bc8').classList.toggle('show_array');\n",
              "        index = (++index) % 2;\n",
              "        document.querySelector('#id-2f934b60-404a-4849-beaf-3d3842b19bc8 button').textContent = titles[index];\n",
              "        e.preventDefault();\n",
              "        e.stopPropagation();\n",
              "      }\n",
              "      })();\n",
              "    </script>"
            ]
          },
          "metadata": {},
          "execution_count": 10
        }
      ]
    },
    {
      "cell_type": "code",
      "source": [
        "image = image.reshape(1, 28 * 28)"
      ],
      "metadata": {
        "id": "NYjUIKQjjRQ2"
      },
      "execution_count": null,
      "outputs": []
    },
    {
      "cell_type": "code",
      "source": [
        "image.shape"
      ],
      "metadata": {
        "colab": {
          "base_uri": "https://localhost:8080/"
        },
        "id": "NPgDPg2mjXki",
        "outputId": "3d697d67-3089-48ff-8585-81c25f3d8a8a"
      },
      "execution_count": null,
      "outputs": [
        {
          "output_type": "execute_result",
          "data": {
            "text/plain": [
              "(1, 784)"
            ]
          },
          "metadata": {},
          "execution_count": 15
        }
      ]
    },
    {
      "cell_type": "code",
      "source": [
        "new_model = tf.keras.models.load_model(\"/content/hwdg.h5\")"
      ],
      "metadata": {
        "id": "0sNkb10bjZbR"
      },
      "execution_count": null,
      "outputs": []
    },
    {
      "cell_type": "code",
      "source": [
        "predict = new_model.predict(image)"
      ],
      "metadata": {
        "colab": {
          "base_uri": "https://localhost:8080/"
        },
        "id": "GxhYdCb5jvDG",
        "outputId": "d54e2415-b6b1-4636-d43a-fc86b59dc0f3"
      },
      "execution_count": null,
      "outputs": [
        {
          "output_type": "stream",
          "name": "stdout",
          "text": [
            "1/1 [==============================] - 0s 127ms/step\n"
          ]
        }
      ]
    },
    {
      "cell_type": "code",
      "source": [
        "predict"
      ],
      "metadata": {
        "colab": {
          "base_uri": "https://localhost:8080/"
        },
        "id": "DUU3w2ZZj3M2",
        "outputId": "5896b7c3-1565-42be-87b9-4d575f7eb593"
      },
      "execution_count": null,
      "outputs": [
        {
          "output_type": "execute_result",
          "data": {
            "text/plain": [
              "array([[1.0628587e-06, 2.7214505e-02, 2.0458985e-02, 9.4444128e-03,\n",
              "        5.4921806e-01, 3.1658135e-02, 2.3909406e-09, 3.4947732e-01,\n",
              "        4.4409592e-07, 1.2527097e-02]], dtype=float32)"
            ]
          },
          "metadata": {},
          "execution_count": 19
        }
      ]
    },
    {
      "cell_type": "code",
      "source": [
        "tf.math.argmax(predict[0])"
      ],
      "metadata": {
        "colab": {
          "base_uri": "https://localhost:8080/"
        },
        "id": "MviqB49Gj4uh",
        "outputId": "0ac0f877-a381-42ab-9c90-db7278bc07f4"
      },
      "execution_count": null,
      "outputs": [
        {
          "output_type": "execute_result",
          "data": {
            "text/plain": [
              "<tf.Tensor: shape=(), dtype=int64, numpy=4>"
            ]
          },
          "metadata": {},
          "execution_count": 20
        }
      ]
    },
    {
      "cell_type": "code",
      "source": [],
      "metadata": {
        "id": "iihnFDFAkFf1"
      },
      "execution_count": null,
      "outputs": []
    }
  ]
}